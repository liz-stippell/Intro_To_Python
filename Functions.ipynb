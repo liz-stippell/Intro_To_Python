{
 "cells": [
  {
   "cell_type": "markdown",
   "id": "0e986fa9",
   "metadata": {},
   "source": [
    "# Functions"
   ]
  },
  {
   "cell_type": "code",
   "execution_count": 1,
   "id": "2ac1f2fb",
   "metadata": {},
   "outputs": [],
   "source": [
    "import math as math"
   ]
  },
  {
   "cell_type": "code",
   "execution_count": 2,
   "id": "e372bb08",
   "metadata": {},
   "outputs": [
    {
     "data": {
      "text/plain": [
       "3.141592653589793"
      ]
     },
     "execution_count": 2,
     "metadata": {},
     "output_type": "execute_result"
    }
   ],
   "source": [
    "math.pi"
   ]
  },
  {
   "cell_type": "code",
   "execution_count": 4,
   "id": "140aaec6",
   "metadata": {},
   "outputs": [
    {
     "data": {
      "text/plain": [
       "3.141592653589793"
      ]
     },
     "execution_count": 4,
     "metadata": {},
     "output_type": "execute_result"
    }
   ],
   "source": [
    "r = 1\n",
    "\n",
    "Area = math.pi*r**2\n",
    "\n",
    "Area"
   ]
  },
  {
   "cell_type": "code",
   "execution_count": 5,
   "id": "f385d7e9",
   "metadata": {},
   "outputs": [],
   "source": [
    "def area_circle(r):\n",
    "    return math.pi*r**2"
   ]
  },
  {
   "cell_type": "code",
   "execution_count": 8,
   "id": "9cc3ddce",
   "metadata": {},
   "outputs": [
    {
     "data": {
      "text/plain": [
       "28.274333882308138"
      ]
     },
     "execution_count": 8,
     "metadata": {},
     "output_type": "execute_result"
    }
   ],
   "source": [
    "area_circle(3)"
   ]
  },
  {
   "cell_type": "code",
   "execution_count": 9,
   "id": "ebbedb3c",
   "metadata": {},
   "outputs": [],
   "source": [
    "def area_rectangle(x, y):\n",
    "    return x*y"
   ]
  },
  {
   "cell_type": "code",
   "execution_count": 10,
   "id": "10e969b3",
   "metadata": {},
   "outputs": [
    {
     "data": {
      "text/plain": [
       "6"
      ]
     },
     "execution_count": 10,
     "metadata": {},
     "output_type": "execute_result"
    }
   ],
   "source": [
    "area_rectangle(2, 3)"
   ]
  },
  {
   "cell_type": "code",
   "execution_count": 11,
   "id": "ca490cda",
   "metadata": {},
   "outputs": [
    {
     "data": {
      "text/plain": [
       "40"
      ]
     },
     "execution_count": 11,
     "metadata": {},
     "output_type": "execute_result"
    }
   ],
   "source": [
    "a = 4\n",
    "b = 10\n",
    "\n",
    "area_rectangle(a, b)"
   ]
  },
  {
   "cell_type": "code",
   "execution_count": null,
   "id": "d0c56bd9",
   "metadata": {},
   "outputs": [],
   "source": []
  }
 ],
 "metadata": {
  "kernelspec": {
   "display_name": "Python 3 (ipykernel)",
   "language": "python",
   "name": "python3"
  },
  "language_info": {
   "codemirror_mode": {
    "name": "ipython",
    "version": 3
   },
   "file_extension": ".py",
   "mimetype": "text/x-python",
   "name": "python",
   "nbconvert_exporter": "python",
   "pygments_lexer": "ipython3",
   "version": "3.9.12"
  }
 },
 "nbformat": 4,
 "nbformat_minor": 5
}
