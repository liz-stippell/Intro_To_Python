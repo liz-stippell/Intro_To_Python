{
 "cells": [
  {
   "cell_type": "markdown",
   "id": "21c3497b",
   "metadata": {},
   "source": [
    "# Units"
   ]
  },
  {
   "cell_type": "markdown",
   "id": "e798e7b4",
   "metadata": {},
   "source": [
    "#### Units 1."
   ]
  },
  {
   "cell_type": "code",
   "execution_count": 10,
   "id": "45058c4e",
   "metadata": {},
   "outputs": [],
   "source": [
    "# feet to meters example\n",
    "\n",
    "feet = 1"
   ]
  },
  {
   "cell_type": "code",
   "execution_count": 12,
   "id": "32cc6ac1",
   "metadata": {},
   "outputs": [],
   "source": [
    "feet2meters = 0.305"
   ]
  },
  {
   "cell_type": "code",
   "execution_count": 15,
   "id": "2e65506c",
   "metadata": {},
   "outputs": [
    {
     "data": {
      "text/plain": [
       "0.915"
      ]
     },
     "execution_count": 15,
     "metadata": {},
     "output_type": "execute_result"
    }
   ],
   "source": [
    "feet = 3\n",
    "\n",
    "feet*feet2meters\n",
    "\n",
    "# This code converts meters to feet or feet to meters."
   ]
  },
  {
   "cell_type": "code",
   "execution_count": 16,
   "id": "aa5a9339",
   "metadata": {},
   "outputs": [
    {
     "data": {
      "text/plain": [
       "9.836065573770492"
      ]
     },
     "execution_count": 16,
     "metadata": {},
     "output_type": "execute_result"
    }
   ],
   "source": [
    "meters = 3\n",
    "\n",
    "meters/feet2meters"
   ]
  },
  {
   "cell_type": "code",
   "execution_count": 17,
   "id": "b78e04b7",
   "metadata": {},
   "outputs": [
    {
     "data": {
      "text/plain": [
       "9.836065573770492"
      ]
     },
     "execution_count": 17,
     "metadata": {},
     "output_type": "execute_result"
    }
   ],
   "source": [
    "x = meters/feet2meters\n",
    "\n",
    "x"
   ]
  },
  {
   "cell_type": "markdown",
   "id": "5df1526e",
   "metadata": {},
   "source": [
    "## Pounds to Grams Example"
   ]
  },
  {
   "cell_type": "code",
   "execution_count": 18,
   "id": "8d74db89",
   "metadata": {},
   "outputs": [],
   "source": [
    "pound = 1\n",
    "\n",
    "pounds2grams = 453.592"
   ]
  },
  {
   "cell_type": "code",
   "execution_count": 19,
   "id": "bd13cf8b",
   "metadata": {},
   "outputs": [
    {
     "data": {
      "text/plain": [
       "907.184"
      ]
     },
     "execution_count": 19,
     "metadata": {},
     "output_type": "execute_result"
    }
   ],
   "source": [
    "pound = 2\n",
    "\n",
    "2*pounds2grams"
   ]
  },
  {
   "cell_type": "code",
   "execution_count": 20,
   "id": "b94eae05",
   "metadata": {},
   "outputs": [
    {
     "data": {
      "text/plain": [
       "907.184"
      ]
     },
     "execution_count": 20,
     "metadata": {},
     "output_type": "execute_result"
    }
   ],
   "source": [
    "pound*pounds2grams"
   ]
  },
  {
   "cell_type": "code",
   "execution_count": null,
   "id": "43bfed31",
   "metadata": {},
   "outputs": [],
   "source": []
  }
 ],
 "metadata": {
  "kernelspec": {
   "display_name": "Python 3 (ipykernel)",
   "language": "python",
   "name": "python3"
  },
  "language_info": {
   "codemirror_mode": {
    "name": "ipython",
    "version": 3
   },
   "file_extension": ".py",
   "mimetype": "text/x-python",
   "name": "python",
   "nbconvert_exporter": "python",
   "pygments_lexer": "ipython3",
   "version": "3.9.12"
  }
 },
 "nbformat": 4,
 "nbformat_minor": 5
}
