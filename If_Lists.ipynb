{
 "cells": [
  {
   "cell_type": "markdown",
   "id": "a7747187",
   "metadata": {},
   "source": [
    "# If Statements and Lists"
   ]
  },
  {
   "cell_type": "code",
   "execution_count": 16,
   "id": "3564b260",
   "metadata": {},
   "outputs": [],
   "source": [
    "list1 = [\"a\", \"b\", \"c\"]"
   ]
  },
  {
   "cell_type": "code",
   "execution_count": 17,
   "id": "9af093e5",
   "metadata": {},
   "outputs": [
    {
     "data": {
      "text/plain": [
       "[1, 2, 3]"
      ]
     },
     "execution_count": 17,
     "metadata": {},
     "output_type": "execute_result"
    }
   ],
   "source": [
    "[1, 2, 3]"
   ]
  },
  {
   "cell_type": "code",
   "execution_count": 18,
   "id": "ce98e2b0",
   "metadata": {},
   "outputs": [
    {
     "name": "stdout",
     "output_type": "stream",
     "text": [
      "a is in the list\n"
     ]
    }
   ],
   "source": [
    "if \"a\" in [\"a\", \"b\", \"c\"]:\n",
    "    print(\"a is in the list\")"
   ]
  },
  {
   "cell_type": "code",
   "execution_count": 19,
   "id": "fa9a33f4",
   "metadata": {},
   "outputs": [
    {
     "name": "stdout",
     "output_type": "stream",
     "text": [
      "a is equal to b\n"
     ]
    }
   ],
   "source": [
    "a = 30\n",
    "b = 30\n",
    "\n",
    "if a > b:\n",
    "    print(\"a is greater than b\")\n",
    "elif a < b:\n",
    "    print(\"a is less than b\")\n",
    "else:\n",
    "    print(\"a is equal to b\")"
   ]
  },
  {
   "cell_type": "code",
   "execution_count": 21,
   "id": "32df76f3",
   "metadata": {},
   "outputs": [
    {
     "name": "stdout",
     "output_type": "stream",
     "text": [
      "d is not in list 1\n"
     ]
    }
   ],
   "source": [
    "if \"d\" in list1:\n",
    "    print(\"d is in list 1\")\n",
    "else:\n",
    "    print(\"d is not in list 1\")"
   ]
  },
  {
   "cell_type": "code",
   "execution_count": null,
   "id": "bbadce06",
   "metadata": {},
   "outputs": [],
   "source": []
  }
 ],
 "metadata": {
  "kernelspec": {
   "display_name": "Python 3 (ipykernel)",
   "language": "python",
   "name": "python3"
  },
  "language_info": {
   "codemirror_mode": {
    "name": "ipython",
    "version": 3
   },
   "file_extension": ".py",
   "mimetype": "text/x-python",
   "name": "python",
   "nbconvert_exporter": "python",
   "pygments_lexer": "ipython3",
   "version": "3.9.12"
  }
 },
 "nbformat": 4,
 "nbformat_minor": 5
}
