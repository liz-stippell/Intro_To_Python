{
 "cells": [
  {
   "cell_type": "markdown",
   "id": "dd52842f",
   "metadata": {},
   "source": [
    "# 1. Basic Math\n",
    "\n",
    "Python can be used as a simple calculator, similar to that on your phone or computer. It can also extend into far more complex math problems, but we won't get to that now. We are going to start with the most simple examples that we can, answers that you probably (hopefully) know the answer to.\n",
    "\n",
    "But first, let's start with a quick introduction to <b>Jupyter Notebook</b>.\n",
    "\n",
    "### Introduction to Jupyter Notebook\n",
    "\n",
    "Jupyter Notebook is an interface for running Python code that runs in your browser (if you haven't noticed already, this notebook should be in your browser such as Chrome, Firefox, or Safari). Notebooks are made of a few key pieces:\n",
    "\n",
    "- The top \"upper heading\" area contains various tools such as options to save, add cells, cut, copy, paste, move cells up and down, run a cell, stop running (or interrupt), restart, and then there is a dropdown menu. For now, we will be using the save function (which can also be accessed through the \"file\" dropdown menu), add cells option (the \"+\" sign), and \"run\".\n",
    "\n",
    "Hold on, let's talk about the dropdown menu next to the double arrow for a moment.\n",
    "\n",
    "- The dropdown menu next to the double arrow at the top of your screen tells you what type of cell you are using. For example, this cell, with plain text in it, is in a \"markdown\" cell. This means that this cell does not contain any code. This is a good option for adding notes to your code (like we're doing right now!). The main option that you are probably going to use is the \"code\" option, meaning the cells can be run and will produce an output.\n",
    "\n",
    "So, what's a cell? \n",
    "\n",
    "- A cell is where code lives. It is represented by a greyish rectangle, and usually has \"In [#]\" to the left hand side. When a cell is ran, it produces an output, sometimes denoted by \"Out[#]\". The number inside the brackets for the \"In\" and \"Out\" should usually match, and represents how many times you've run a cell. Cells can be run individually, or they can be ran all at the \"same time\" (they will run consecutively) by clicking the \"Cell\" dropdown menu (above \"Run\") and clicking \"Run all\"\n",
    "\n",
    "<b>The easiest way to run a cell is to press `ctrl+shift` (or `cmd+shift` on Mac)</b>\n",
    "\n",
    "Let's give that a try now with our first cell. Click on it below and a green square should surround the cell. Once the green square is there, press `ctrl+shift` or `cmd+shift`:"
   ]
  },
  {
   "cell_type": "code",
   "execution_count": 2,
   "id": "9ab0af98",
   "metadata": {},
   "outputs": [
    {
     "name": "stdout",
     "output_type": "stream",
     "text": [
      "Hello World\n"
     ]
    }
   ],
   "source": [
    "print(\"Hello World\")"
   ]
  },
  {
   "cell_type": "markdown",
   "id": "54436e1c",
   "metadata": {},
   "source": [
    "\"Hello World\" should have appeared in the output area (white space area) of the above cell. It might already be there, so when you run the cell, watch the number in the brackets increase! This is proof you ran your first code. Congratulations!\n",
    "\n",
    "Let's do a quick breakdown of the different parts of the above code. First, we have `print` followed by parentheses. If something is followed by parentheses, this indicates a <b>function</b>. So, we know that `print` is a function. What goes inside the parentheses is often referred to as a <b>parameter</b> or <b>variable</b>. All together, the above notation can be generalized to: `function_name(variable)`. Here, we have our variable `\"Hello World\"`. The function `print` is being called, and we are telling it to, well, print whatever the variable is. Just like in talking, if we want to use words or phrases, we use <b>quotation marks</b>.\n",
    "\n",
    "Now that we know what is going on with our first code, we can customize it! Insert any phrase, number, what have you, between the quotes in the function below. Press our handy `ctrl+shift` or `cmd+shift` to run the cell, and see your message printed in the output below!"
   ]
  },
  {
   "cell_type": "code",
   "execution_count": null,
   "id": "74f40446",
   "metadata": {},
   "outputs": [],
   "source": [
    "# This is a comment. Comments are \"invisible\" to Python, and are useful ways to write notes about what your code is doing.\n",
    "# To write a comment, start with the # symbol. Comments don't have to go on their own line, and can be added next to code.\n",
    "# Be careful! Anything that comes after the # symbol will be ignored by Python\n",
    "\n",
    "print(\" \") # This line is going to print whatever word, phrase, number, symbol you want. Give it a try!"
   ]
  },
  {
   "cell_type": "markdown",
   "id": "d2f346f6",
   "metadata": {},
   "source": [
    "Printing, although it may seem simple, is a great way to learn to debug. If you have many pieces of code in one cell, it helps to throw in `print` functions every now and then to make sure you're on the right track. But, we'll see this later on.\n",
    "\n",
    "Now, let's move on to our basic math. We are going to type in our math just like you would into a calculator, but instead of hitting \"enter\" like on a calculator, we are going to run the cell to see its output. Let's start simple.\n",
    "\n",
    "Run the cell below:"
   ]
  },
  {
   "cell_type": "code",
   "execution_count": 3,
   "id": "87f9e8f3",
   "metadata": {},
   "outputs": [
    {
     "data": {
      "text/plain": [
       "4"
      ]
     },
     "execution_count": 3,
     "metadata": {},
     "output_type": "execute_result"
    }
   ],
   "source": [
    "2+2"
   ]
  },
  {
   "cell_type": "markdown",
   "id": "ff10d586",
   "metadata": {},
   "source": [
    "Wow! 2 + 2 = 4! We did it! Did you notice we didn't use the `print` function? This is because Jupyter Notebook is really great at understanding what we want. <i>But</i>, if we had two expressions in the same cell, well, let's see what happens. Run the cell below:"
   ]
  },
  {
   "cell_type": "code",
   "execution_count": 4,
   "id": "befcd7d1",
   "metadata": {},
   "outputs": [
    {
     "data": {
      "text/plain": [
       "6"
      ]
     },
     "execution_count": 4,
     "metadata": {},
     "output_type": "execute_result"
    }
   ],
   "source": [
    "1+1\n",
    "\n",
    "3+3"
   ]
  },
  {
   "cell_type": "markdown",
   "id": "d2bf0a89",
   "metadata": {},
   "source": [
    "You should've only gotten one output: 6. So, the answer to our first expression, `1+1`, did not print. Oh no! How are we going to handle this? Wait, don't panic, we can <i>totally</i> handle this, because we already learned the `print` function! Let's try this again, but add in some print functions:"
   ]
  },
  {
   "cell_type": "code",
   "execution_count": 9,
   "id": "b7e7e3b2",
   "metadata": {},
   "outputs": [
    {
     "name": "stdout",
     "output_type": "stream",
     "text": [
      "-0.76\n",
      "6\n"
     ]
    }
   ],
   "source": [
    "print(1 - 1.76) # Python also ignores excess white spaces. I like to add extra space around my operations symbols.\n",
    "\n",
    "print( 3+     3)"
   ]
  },
  {
   "cell_type": "markdown",
   "id": "85744440",
   "metadata": {},
   "source": [
    "Now we have two outputs, awesome! You might be thinking to yourself, \"why didn't we use quotes this time?\" Very good question, young Padawan. We didn't use quotes because we wanted Python to compute the answers. Let's see what happens when we do add quotes:"
   ]
  },
  {
   "cell_type": "code",
   "execution_count": 10,
   "id": "f5416852",
   "metadata": {},
   "outputs": [
    {
     "name": "stdout",
     "output_type": "stream",
     "text": [
      "1 - 1.76\n",
      " 3+     3\n"
     ]
    }
   ],
   "source": [
    "print(\"1 - 1.76\")\n",
    "\n",
    "print(\" 3+     3\")"
   ]
  },
  {
   "cell_type": "markdown",
   "id": "fd220665",
   "metadata": {},
   "source": [
    "It printed out exactly what we told it to! But, that isn't what we needed. So, now we know when we use quotes, we will get precisely what is in the quotes as our outputs. If we don't use quotes, Python will compute whatever you give it.\n",
    "\n",
    "Sometimes, equations can get <i>really</i> complicated, and putting it all inside the `print` function can look messy or confusing. Just like any expression, we can make it into an equation and set it equal to a variable, then tell the `print` function to print the computed variable! Let's try it:"
   ]
  },
  {
   "cell_type": "code",
   "execution_count": 11,
   "id": "dd8651c7",
   "metadata": {},
   "outputs": [
    {
     "name": "stdout",
     "output_type": "stream",
     "text": [
      "12079442620378.12\n"
     ]
    }
   ],
   "source": [
    "x = 20564128013548752 * 0.00058740359 + 6053 / 470236 # Python follows order of operations (PEMDAS)\n",
    "\n",
    "print(x)"
   ]
  },
  {
   "cell_type": "markdown",
   "id": "145b1c3a",
   "metadata": {},
   "source": [
    "It looks like we've included some new operations. Let's list out the basic operations that are included in Python:\n",
    "\n",
    "`+`: Addition\n",
    "\n",
    "`-`: Subtraction\n",
    "\n",
    "`*`: Multiplication\n",
    "\n",
    "`/`: Division\n",
    "\n",
    "`**`: Exponent\n",
    "\n",
    "There are two others that are a bit more uncommon, but very useful:\n",
    "\n",
    "`//`: Integer Division (this will round your answer down to the nearest whole number)\n",
    "\n",
    "`%`: Remainder (this will give you the remainder when dividing two numbers)\n",
    "\n",
    "Let's give those last two a try:"
   ]
  },
  {
   "cell_type": "code",
   "execution_count": 13,
   "id": "adf74123",
   "metadata": {},
   "outputs": [
    {
     "name": "stdout",
     "output_type": "stream",
     "text": [
      "2.5\n",
      "2\n",
      "1\n"
     ]
    }
   ],
   "source": [
    "a = 5 / 2 # We can name our variables anything we want\n",
    "b = 5 // 2\n",
    "\n",
    "print(a)\n",
    "print(b)\n",
    "\n",
    "remainder = 5 % 2 # See? We named this one `remainder`\n",
    "\n",
    "print(remainder)"
   ]
  },
  {
   "cell_type": "markdown",
   "id": "c459d8fb",
   "metadata": {},
   "source": [
    "<i>Note:</i> Variables are <b>case sensitive</b> meaning `remainder` and `REMAINDER` and `rEmAiNdEr` and `REMAINder` are all different variables.\n",
    "\n",
    "Let's try writing something a bit more complex. How does the quadratic formula sound?\n",
    "\n",
    "The quadratic formula is:\n",
    "\n",
    "$$ x = \\frac{-b \\pm \\sqrt{b^2 - 4*a*c}}{2*a} $$\n",
    "\n",
    "This means, we are going to have three variables, `a`, `b`, and `c`"
   ]
  },
  {
   "cell_type": "code",
   "execution_count": 24,
   "id": "97c8fe1e",
   "metadata": {},
   "outputs": [],
   "source": [
    "a = 2\n",
    "b = 3\n",
    "c = 1"
   ]
  },
  {
   "cell_type": "markdown",
   "id": "ae1995c4",
   "metadata": {},
   "source": [
    "We can handle the quadratic formula in a few ways. Let's start with just writing it out:"
   ]
  },
  {
   "cell_type": "code",
   "execution_count": 25,
   "id": "db527fb8",
   "metadata": {},
   "outputs": [],
   "source": [
    "# We will need two variables, one for the addition and one for the subtraction\n",
    "\n",
    "x1 = (-b + (b**2 - 4 * a * c)**(1/2)) / (2 * a)\n",
    "x2 = (-b - (b**2 - 4 * a * c)**(1/2)) / (2 * a)"
   ]
  },
  {
   "cell_type": "markdown",
   "id": "b8f36716",
   "metadata": {},
   "source": [
    "Be careful with parentheses, things can get confusing! Python will let you know if you're missing a parenthesis, and tell you that you have an \"EOF\" error. Let's see what that looks like:"
   ]
  },
  {
   "cell_type": "code",
   "execution_count": 26,
   "id": "45c048cd",
   "metadata": {},
   "outputs": [
    {
     "ename": "SyntaxError",
     "evalue": "unexpected EOF while parsing (<ipython-input-26-5b2294a5cdb4>, line 2)",
     "output_type": "error",
     "traceback": [
      "\u001b[1;36m  File \u001b[1;32m\"<ipython-input-26-5b2294a5cdb4>\"\u001b[1;36m, line \u001b[1;32m2\u001b[0m\n\u001b[1;33m    x2 = (-b - (b**2 - 4 * a * c)**(1/2) / (2 * a)\u001b[0m\n\u001b[1;37m                                                  ^\u001b[0m\n\u001b[1;31mSyntaxError\u001b[0m\u001b[1;31m:\u001b[0m unexpected EOF while parsing\n"
     ]
    }
   ],
   "source": [
    "x1 = (-b + (b**2 - 4 * a * c)**(1/2)) / (2 * a)\n",
    "x2 = (-b - (b**2 - 4 * a * c)**(1/2) / (2 * a)"
   ]
  },
  {
   "cell_type": "markdown",
   "id": "df0cb9f7",
   "metadata": {},
   "source": [
    "Luckily for us, Jupyter Notebook will highlight parentheses pairs, which will help show us where our mistake lies. Based on the error message, we can see that the error is on line 2 in the `x2` variable. Now, we can start matching parentheses and... we forgot one at the end of the numerator! (This one is pretty straightforward to spot, since we have a correct `x1` to compare it to) If we put our cursor next to all of the parentheses, we can also see that one turns red. This means it doesn't have a pair.\n",
    "\n",
    "Congratulations! You have just successfully completed your first debugging.\n",
    "\n",
    "The other way to write our quadratic formula which may be helpful is to split it up into <i>more</i> variables, mainly the numerator and denominator. Splitting it up this way should help us avoid any errors in our code."
   ]
  },
  {
   "cell_type": "code",
   "execution_count": 27,
   "id": "1bd1fc08",
   "metadata": {},
   "outputs": [],
   "source": [
    "numerator_1 = -b + (b**2 - 4 * a * c)**(1/2) # We can also use underscores in our variable names!\n",
    "numerator_2 = -b - (b**2 - 4 * a * c)**(1/2)\n",
    "\n",
    "# How convenient! Both will have the same denominator:\n",
    "\n",
    "denominator = 2 * a"
   ]
  },
  {
   "cell_type": "markdown",
   "id": "c838232b",
   "metadata": {},
   "source": [
    "Let's put it all together now:"
   ]
  },
  {
   "cell_type": "code",
   "execution_count": 28,
   "id": "58cd2f35",
   "metadata": {},
   "outputs": [
    {
     "name": "stdout",
     "output_type": "stream",
     "text": [
      "-0.5\n",
      "-1.0\n"
     ]
    }
   ],
   "source": [
    "ans1 = numerator_1 / denominator\n",
    "ans2 = numerator_2 / denominator\n",
    "\n",
    "print(ans1)\n",
    "print(ans2)"
   ]
  },
  {
   "cell_type": "markdown",
   "id": "9cf385bb",
   "metadata": {},
   "source": [
    "I think we can make this look a bit nicer. Let's print some quotes (formally known as <b>strings</b> in Python)"
   ]
  },
  {
   "cell_type": "code",
   "execution_count": 30,
   "id": "a83dd767",
   "metadata": {},
   "outputs": [
    {
     "name": "stdout",
     "output_type": "stream",
     "text": [
      "Quadratic formula with addition in the numerator:  -0.5\n",
      "Quadratic formula with subtraction in the numerator:  -1.0\n"
     ]
    }
   ],
   "source": [
    "# Jupyter Notebook will \"remember\" variables between cells\n",
    "\n",
    "print(\"Quadratic formula with addition in the numerator: \", ans1) # We gave `print` two variables here, a string and ans1\n",
    "print(\"Quadratic formula with subtraction in the numerator: \", ans2)"
   ]
  },
  {
   "cell_type": "markdown",
   "id": "f16849df",
   "metadata": {},
   "source": [
    "If you want, you can confirm this result by hand! Feel free to change your `a`, `b`, and `c` values and see what answers you get! \n",
    "\n",
    "<i>Hint:</i> Sometimes, you will end up with an answer with a `j` in it. `j` is Python's equivalent to an <b>imaginary number</b> (\"i\" in math) meaning the value inside the squareroot is negative."
   ]
  },
  {
   "cell_type": "markdown",
   "id": "43e561fa",
   "metadata": {},
   "source": [
    "### Practice\n",
    "\n",
    "Below are some word problems, write code for Python to solve them.\n",
    "\n",
    "1. What is the sum of 2,056 and 47? \n",
    "\n",
    "<i>Hint:</i> Python does not recognize commas in code. Remove any commas from numbers, or replace them with a `_` (this may help with clarity, especially if numbers are really large). \n",
    "\n",
    "For example: `2,056` can be represented as either `2056` OR `2_056`\n",
    "\n",
    "2. Find the remainder of 67 divided by 4\n",
    "\n",
    "\n",
    "3. What is 12 minus seven multiplied by 33?\n",
    "\n",
    "\n",
    "4. Using the quadratic equation, solve with a = 5, b = 18, c = 2\n",
    "\n",
    "Don't forget to add comments with `#` to properly document your code!"
   ]
  },
  {
   "cell_type": "code",
   "execution_count": null,
   "id": "ce07eae9",
   "metadata": {},
   "outputs": [],
   "source": []
  },
  {
   "cell_type": "markdown",
   "id": "d66a952f",
   "metadata": {},
   "source": [
    "Make more cells with the \"+\" button (next to save icon). Move a cell up or down with the up and down arrows (next to \"Run\" button)\n",
    "\n",
    "# When you're done with this notebook, make sure to save. Then, click \"File\", \"Close and Halt\" to exit"
   ]
  }
 ],
 "metadata": {
  "kernelspec": {
   "display_name": "Python 3",
   "language": "python",
   "name": "python3"
  },
  "language_info": {
   "codemirror_mode": {
    "name": "ipython",
    "version": 3
   },
   "file_extension": ".py",
   "mimetype": "text/x-python",
   "name": "python",
   "nbconvert_exporter": "python",
   "pygments_lexer": "ipython3",
   "version": "3.8.8"
  }
 },
 "nbformat": 4,
 "nbformat_minor": 5
}
