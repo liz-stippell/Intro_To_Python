{
 "cells": [
  {
   "cell_type": "markdown",
   "id": "0e986fa9",
   "metadata": {},
   "source": [
    "# 2. Libraries and Functions\n",
    "\n",
    "### Libraries\n",
    "\n",
    "Python <b>libraries</b> (sometimes referred to as <i>packages</i>) are truly what make Python so useful. Because Python is free and open-source, anyone can make a Python library. Libraries consist of predefined functions and other capabilities. There are a few main libraries that we will discuss briefly here:\n",
    "\n",
    "`math`: This library is built into Python itself, so you do not need to install it. It has various helpful features, such as a defined value for pi, as well as predefined functions for sine, cosine, tangent, etc. (`sin()`, `cos()`, etc.)\n",
    "\n",
    "`numpy`: This is a NUMerical PYthon library, which has similar features as the `math` library, and many more. Numpy is one of the most commonly used libraries due to its extensive functionalities. We will discuss this one more in detail later on.\n",
    "\n",
    "`scipy`: This is a SCIentific PYthon library, and has similar functions like `math` and `numpy`. Similarly, we will discuss this package in detail later on.\n",
    "\n",
    "`matplotlib`: This is a plotting library that allows us to make graphs.\n",
    "\n",
    "<b>To install a Python package</b>, we can do this in the command line. (You can search \"terminal\" on either Windows or Mac and it should pop up. It's a black screen.)\n",
    "\n",
    "To install any package, run `pip install [package]` (for example, `pip install numpy`) in the command line. If it asks you for a yes/no input (usually y/n), say yes\n",
    "\n",
    "- <b>Windows</b>: For more information, click [here](https://www.geeksforgeeks.org/how-to-install-numpy-on-windows/) for understanding how to install `numpy` (other packages can be installed similarly)\n",
    "- <b>Mac</b>: For more information, click [here](https://www.geeksforgeeks.org/install-numpy-macos/) for understanding how to install `numpy` (other packages can be installed similarly)\n",
    "\n",
    "To `import` a package (load it into Jupyter Notebook), we can run:\n",
    "\n",
    "`import math as math`\n",
    "\n",
    "What this is saying is that we are importing the `math` library, and we are calling it `math`. So, whenever we use a predefined function or variable, it will look like `math.[name]`. Like we said previously, the `math` library has a predefined value for pi. We can call upon this value by doing `math.pi`.\n",
    "\n",
    "Let's try this now in the cell below:"
   ]
  },
  {
   "cell_type": "code",
   "execution_count": 1,
   "id": "2ac1f2fb",
   "metadata": {},
   "outputs": [
    {
     "data": {
      "text/plain": [
       "3.141592653589793"
      ]
     },
     "execution_count": 1,
     "metadata": {},
     "output_type": "execute_result"
    }
   ],
   "source": [
    "import math as math\n",
    "\n",
    "math.pi"
   ]
  },
  {
   "cell_type": "markdown",
   "id": "943887d3",
   "metadata": {},
   "source": [
    "Now, let's use this in an expression like we did in our first module (1_Basic_Math). We can insert `math.pi` into an expression just like any variable. Let's try it out by finding the area of a circle with a radius of two (`r=2`)."
   ]
  },
  {
   "cell_type": "code",
   "execution_count": 2,
   "id": "140aaec6",
   "metadata": {},
   "outputs": [
    {
     "data": {
      "text/plain": [
       "12.566370614359172"
      ]
     },
     "execution_count": 2,
     "metadata": {},
     "output_type": "execute_result"
    }
   ],
   "source": [
    "r = 2 # This is the radius\n",
    "\n",
    "Area = math.pi * r**2 # This is our expression for Area, remember \"**\" is the exponent operation\n",
    "\n",
    "Area"
   ]
  },
  {
   "cell_type": "markdown",
   "id": "c60c417c",
   "metadata": {},
   "source": [
    "Now that we have our libraries sorted out and we know how to use them in code, we can start working on making our first function.\n",
    "\n",
    "### Functions\n",
    "\n",
    "<b>Functions</b> are an extremely important aspect of Python. They allow us to remember code snippets or formulas without defining them to a variable. Variables can be overwritten. Say you have `x` equal to one number, then later down in your code you redefine `x` as a different number. This will change the value of `x`. Let's show how this works: "
   ]
  },
  {
   "cell_type": "code",
   "execution_count": 3,
   "id": "147b748a",
   "metadata": {},
   "outputs": [
    {
     "name": "stdout",
     "output_type": "stream",
     "text": [
      "2\n"
     ]
    }
   ],
   "source": [
    "x = 2\n",
    "\n",
    "print(x)\n",
    "\n",
    "x = 3"
   ]
  },
  {
   "cell_type": "markdown",
   "id": "998bf98e",
   "metadata": {},
   "source": [
    "Now, let's print `x` again and see what the answer is:"
   ]
  },
  {
   "cell_type": "code",
   "execution_count": 4,
   "id": "6779a0e1",
   "metadata": {},
   "outputs": [
    {
     "name": "stdout",
     "output_type": "stream",
     "text": [
      "3\n"
     ]
    }
   ],
   "source": [
    "print(x)"
   ]
  },
  {
   "cell_type": "markdown",
   "id": "b31b564d",
   "metadata": {},
   "source": [
    "We have changed the value! This was a simple example, but say we changed the value of `Area` as we had above, so that it was the area of a rectangle. This would get quite confusing. So, by using functions, we can ensure that we will always apply the proper formulas without them being overwritten. Let's write two functions: one for the area of a circle, and the other for the area of a rectangle."
   ]
  },
  {
   "cell_type": "code",
   "execution_count": 5,
   "id": "f385d7e9",
   "metadata": {},
   "outputs": [],
   "source": [
    "def area_circle(r):\n",
    "    return math.pi*r**2"
   ]
  },
  {
   "cell_type": "markdown",
   "id": "6596591e",
   "metadata": {},
   "source": [
    "Let's talk about what the above code means. We have a few different aspects:\n",
    "\n",
    "`def` indicates that we are <i>defining</i> a function. This is a preset variable in Python (meaning you can't have something like `def=` in your code, it won't run!), and so it is green. \n",
    "\n",
    "`area_circle(r)` is the function with its parameter. If you remember from the last module, functions have the format `[name](parameters)`. This function only has one parameter, `r`. This is the radius of our circle.\n",
    "\n",
    "`return` indicates what we will get out from the function. In this case, we want to get out the area of a circle, so we included the formula after the `return` (another built-in variable in Python, it's green!)\n",
    "\n",
    "Now, let's see it in action with a circle of radius `3`:"
   ]
  },
  {
   "cell_type": "code",
   "execution_count": 6,
   "id": "9cc3ddce",
   "metadata": {},
   "outputs": [
    {
     "data": {
      "text/plain": [
       "28.274333882308138"
      ]
     },
     "execution_count": 6,
     "metadata": {},
     "output_type": "execute_result"
    }
   ],
   "source": [
    "area_circle(3)"
   ]
  },
  {
   "cell_type": "markdown",
   "id": "0c2a12ba",
   "metadata": {},
   "source": [
    "Similar to our first area formula that we did where we had `r` defined before its use in the formula, we can do the same thing with our area function:"
   ]
  },
  {
   "cell_type": "code",
   "execution_count": 7,
   "id": "1fb1b17a",
   "metadata": {},
   "outputs": [
    {
     "data": {
      "text/plain": [
       "28.274333882308138"
      ]
     },
     "execution_count": 7,
     "metadata": {},
     "output_type": "execute_result"
    }
   ],
   "source": [
    "r = 3\n",
    "\n",
    "area_circle(r)"
   ]
  },
  {
   "cell_type": "markdown",
   "id": "59d109a1",
   "metadata": {},
   "source": [
    "And we get the same answer! Now let's look at the area of a rectangle, which we know is:\n",
    "\n",
    "$$ A_{rectangle}=length*width $$\n",
    "\n",
    "Let's call our length `x` and our width `y`:"
   ]
  },
  {
   "cell_type": "code",
   "execution_count": 8,
   "id": "ebbedb3c",
   "metadata": {},
   "outputs": [],
   "source": [
    "def area_rectangle(x, y):\n",
    "    area = x*y\n",
    "    return area"
   ]
  },
  {
   "cell_type": "markdown",
   "id": "131d4542",
   "metadata": {},
   "source": [
    "We did something a bit different with this one: we first defined the area with the variable `area` inside of the function. Then, we included this newly defined variable in our `return`. This variable is defined <i>within</i> the function, so if we define `area` outside of the function, it doesn't affect the definition of our function. Let's try it out to see:"
   ]
  },
  {
   "cell_type": "code",
   "execution_count": 9,
   "id": "c64db7b8",
   "metadata": {},
   "outputs": [
    {
     "name": "stdout",
     "output_type": "stream",
     "text": [
      "4.0\n"
     ]
    },
    {
     "data": {
      "text/plain": [
       "8"
      ]
     },
     "execution_count": 9,
     "metadata": {},
     "output_type": "execute_result"
    }
   ],
   "source": [
    "h = 2\n",
    "b = 4\n",
    "\n",
    "area = (1/2) * h * b # This is the area of a triangle\n",
    "\n",
    "print(area)\n",
    "\n",
    "# Let's use the same variables for the area of a rectangle:\n",
    "\n",
    "area_rectangle(2, 4)"
   ]
  },
  {
   "cell_type": "markdown",
   "id": "88f75aed",
   "metadata": {},
   "source": [
    "We can also define a function to a variable. This usually makes printing answers a bit simpler (`print(a)` versus `print(area_rectangle(2, 4))`, that second one is a mouthful and you might end up forgetting parentheses!)"
   ]
  },
  {
   "cell_type": "code",
   "execution_count": 10,
   "id": "a82f5475",
   "metadata": {},
   "outputs": [
    {
     "name": "stdout",
     "output_type": "stream",
     "text": [
      "8\n"
     ]
    }
   ],
   "source": [
    "a = area_rectangle(2, 4)\n",
    "\n",
    "print(a)"
   ]
  },
  {
   "cell_type": "markdown",
   "id": "5309a04f",
   "metadata": {},
   "source": [
    "So far, we have dealt with fairly simple equations that we turned into formulas. The second benefit of using functions is when formulas get more complex, like with our quadratic equation in the last module (1_Basic_Math). We don't want to risk that being overwritten, and I wouldn't want to have to write that again if it was. Let's make a function that describes the quadratic formula:"
   ]
  },
  {
   "cell_type": "code",
   "execution_count": 11,
   "id": "24f857f5",
   "metadata": {},
   "outputs": [],
   "source": [
    "def quadform(a, b, c):\n",
    "    ans1 = (-b + (b**2 - 4 * a * c)**(1/2)) / (2 * a)\n",
    "    ans2 = (-b - (b**2 - 4 * a * c)**(1/2)) / (2 * a)\n",
    "    return ans1, ans2"
   ]
  },
  {
   "cell_type": "markdown",
   "id": "f9b9c086",
   "metadata": {},
   "source": [
    "We can name our functions anything, but they follow the same rules as variables do. So, `quadform` and `QUADform` are two different functions. Usually, it is good to have your functions (and variables) in all lowercase, and I like to include `_`to represent spaces, like we did with the `area_rectangle` function. You also want your functions (and variables!) to be descriptive enough that you understand what they're doing (ex: `ar()` is much less descriptive than `area_rectangle()`).\n",
    "\n",
    "Let's try out our new quadratic formula function:"
   ]
  },
  {
   "cell_type": "code",
   "execution_count": 12,
   "id": "a4c77f98",
   "metadata": {},
   "outputs": [
    {
     "data": {
      "text/plain": [
       "(-0.2279981273412348, -8.772001872658766)"
      ]
     },
     "execution_count": 12,
     "metadata": {},
     "output_type": "execute_result"
    }
   ],
   "source": [
    "quadform(1, 9, 2)"
   ]
  },
  {
   "cell_type": "markdown",
   "id": "d926a474",
   "metadata": {},
   "source": [
    "Here, we get two outputs: addition in the numerator and subtraction, enclosed by parentheses.\n",
    "\n",
    "### Practice\n",
    "\n",
    "1. Write a function that describes the area of a triangle\n",
    "\n",
    "2. Write a function for the volume of a cube"
   ]
  },
  {
   "cell_type": "code",
   "execution_count": null,
   "id": "150df2dd",
   "metadata": {},
   "outputs": [],
   "source": []
  },
  {
   "cell_type": "markdown",
   "id": "59c615f7",
   "metadata": {},
   "source": [
    "<b>Remember:</b> Make more cells with the \"+\" button (next to save icon). Move a cell up or down with the up and down arrows (next to \"Run\" button)"
   ]
  },
  {
   "cell_type": "markdown",
   "id": "30c19963",
   "metadata": {},
   "source": [
    "### Project 1: Split the Bill and Calculate Tip\n",
    "\n",
    "Python is great for automating things in our everyday life. Have you ever gone to a restaurant and gotten one bill that has to be split between ten people and everyone pulls out their phones to start calculating how much they owe? Let's look at how we can split a bill evenly amongst friends, and calculate the tip as well."
   ]
  },
  {
   "cell_type": "code",
   "execution_count": 15,
   "id": "e37932be",
   "metadata": {},
   "outputs": [],
   "source": [
    "bill = 243.89\n",
    "amount_people = 12"
   ]
  },
  {
   "cell_type": "markdown",
   "id": "232e6b86",
   "metadata": {},
   "source": [
    "Let's first define how we are going to solve for the tip. What do you need to figure out tip? The bill total, and the percent that you want to tip. This means our function will have two variables:"
   ]
  },
  {
   "cell_type": "code",
   "execution_count": 16,
   "id": "cc3b5e76",
   "metadata": {},
   "outputs": [],
   "source": [
    "def tip(bill, percent):\n",
    "    perc = percent / 100\n",
    "    return bill * perc"
   ]
  },
  {
   "cell_type": "markdown",
   "id": "3b842c30",
   "metadata": {},
   "source": [
    "In the above, we are having the `percent` parameter equal to a whole number between 0 and 100. Let's figure out how much our tip will be if we want to tip `20%`:"
   ]
  },
  {
   "cell_type": "code",
   "execution_count": 17,
   "id": "b1df0006",
   "metadata": {},
   "outputs": [
    {
     "data": {
      "text/plain": [
       "48.778"
      ]
     },
     "execution_count": 17,
     "metadata": {},
     "output_type": "execute_result"
    }
   ],
   "source": [
    "tip(bill, 20)"
   ]
  },
  {
   "cell_type": "markdown",
   "id": "56c9c7fd",
   "metadata": {},
   "source": [
    "Now, let's do some arithmetic to add this to our bill to get our total bill:"
   ]
  },
  {
   "cell_type": "code",
   "execution_count": 18,
   "id": "0ad1b6a4",
   "metadata": {},
   "outputs": [
    {
     "name": "stdout",
     "output_type": "stream",
     "text": [
      "292.668\n"
     ]
    }
   ],
   "source": [
    "bill_total = bill + tip(bill, 20)\n",
    "\n",
    "print(bill_total)"
   ]
  },
  {
   "cell_type": "markdown",
   "id": "6cc74bb3",
   "metadata": {},
   "source": [
    "Now that we have the total bill, let's split it between our group of diners. Let's make another function:"
   ]
  },
  {
   "cell_type": "code",
   "execution_count": 19,
   "id": "dfd821ff",
   "metadata": {},
   "outputs": [],
   "source": [
    "def split_bill(bill_total, number):\n",
    "    return bill_total / number"
   ]
  },
  {
   "cell_type": "markdown",
   "id": "78203bd8",
   "metadata": {},
   "source": [
    "And now we can split it:"
   ]
  },
  {
   "cell_type": "code",
   "execution_count": 20,
   "id": "bb3d6638",
   "metadata": {},
   "outputs": [
    {
     "data": {
      "text/plain": [
       "24.389"
      ]
     },
     "execution_count": 20,
     "metadata": {},
     "output_type": "execute_result"
    }
   ],
   "source": [
    "split_bill(bill_total, amount_people)"
   ]
  },
  {
   "cell_type": "markdown",
   "id": "3c4211e8",
   "metadata": {},
   "source": [
    "Everyone owes $24.39, easy peasy. Because we defined these as functions, we can change the parameters to be any amount we would like and still compute the answers.\n",
    "\n",
    "# When you're done with this notebook, make sure to save. Then, click \"File\", \"Close and Halt\" to exit"
   ]
  }
 ],
 "metadata": {
  "kernelspec": {
   "display_name": "Python 3",
   "language": "python",
   "name": "python3"
  },
  "language_info": {
   "codemirror_mode": {
    "name": "ipython",
    "version": 3
   },
   "file_extension": ".py",
   "mimetype": "text/x-python",
   "name": "python",
   "nbconvert_exporter": "python",
   "pygments_lexer": "ipython3",
   "version": "3.8.8"
  }
 },
 "nbformat": 4,
 "nbformat_minor": 5
}
